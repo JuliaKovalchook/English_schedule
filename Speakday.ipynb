{
 "cells": [
  {
   "cell_type": "code",
   "execution_count": 1,
   "id": "523c5daf",
   "metadata": {},
   "outputs": [],
   "source": [
    "import sys\n",
    "from bs4 import BeautifulSoup\n",
    "import requests\n",
    "from datetime import datetime, timedelta\n",
    "import time\n",
    "import pytz\n",
    "import pandas as pd\n",
    "import json \n",
    "import re\n"
   ]
  },
  {
   "cell_type": "code",
   "execution_count": 2,
   "id": "e2ef4ac5",
   "metadata": {},
   "outputs": [],
   "source": [
    "url='https://speakday.com/timetable/english-conversations'\n"
   ]
  },
  {
   "cell_type": "code",
   "execution_count": 3,
   "id": "f3faf17e",
   "metadata": {},
   "outputs": [],
   "source": [
    "def test_print(url):\n",
    "    print(url)"
   ]
  },
  {
   "cell_type": "code",
   "execution_count": 4,
   "id": "2adb57ab",
   "metadata": {},
   "outputs": [],
   "source": [
    "def get_page(url):  #be careful, we don't want to crash the site\n",
    "    HEADERS = {\n",
    "            \"User-Agent\": \"Mozilla/5.0 (Windows NT 10.0; Win64; x64; rv:98.0) Gecko/20100101 Firefox/98.0\",\n",
    "            \"Accept\": \"text/html,application/xhtml+xml,application/xml;q=0.9,image/avif,image/webp,*/*;q=0.8\",\n",
    "            \"Accept-Language\": \"en-US,en;q=0.5\",\n",
    "            \"Accept-Encoding\": \"gzip, deflate\",\n",
    "            \"Connection\": \"keep-alive\",\n",
    "            \"Upgrade-Insecure-Requests\": \"1\",\n",
    "            \"Sec-Fetch-Dest\": \"document\",\n",
    "            \"Sec-Fetch-Mode\": \"navigate\",\n",
    "            \"Sec-Fetch-Site\": \"none\",\n",
    "            \"Sec-Fetch-User\": \"?1\",\n",
    "            \"Cache-Control\": \"max-age=0\",\n",
    "        }\n",
    "    html = requests.get(url, headers=HEADERS)\n",
    "    bs = BeautifulSoup(html.text, 'html.parser')\n",
    "    return  bs"
   ]
  },
  {
   "cell_type": "code",
   "execution_count": 15,
   "id": "dafc8ad4",
   "metadata": {},
   "outputs": [],
   "source": [
    "\n",
    "\n",
    "#filter data\n",
    "def filter_speakday(bs):  \n",
    "    script_json=bs.find('script', id='__NEXT_DATA__')\n",
    "    json_object = json.loads(script_json.contents[0])\n",
    "    list_seesion_big=json_object['props']['pageProps']['timetableData']['conversations']\n",
    "    list_seesion=[]\n",
    "    for session in list_seesion_big:\n",
    "        for i in session:\n",
    "            if i in ('schedule'):\n",
    "                schedule =(i,session[i]['date_time'])\n",
    "        dict_small=dict([schedule])\n",
    "        list_seesion.append(dict_small)\n",
    "    df_import = pd.DataFrame.from_records(list_seesion)\n",
    "    \n",
    "\n",
    "    df_import['schedule']=pd.to_datetime(df_import['schedule']).dt.tz_convert('Europe/Kyiv')\n",
    "    \n",
    "    #get current dateTime\n",
    "    current_dateTime = pd.to_datetime('today').tz_localize('Europe/Kyiv')\n",
    "    #end time session only 20 minutes\n",
    "    time_change = timedelta(minutes=20)\n",
    "\n",
    "\n",
    "\n",
    "    #filter by upcoming events only\n",
    "    df_not_group= df_import[df_import['schedule'] >= current_dateTime].copy()\n",
    "\n",
    "\n",
    "\n",
    "    #grouping\n",
    "    df_not_group = df_not_group.rename(columns={'schedule': 'start_event'})\n",
    "    df_not_group['end_event']=df_not_group['start_event']+time_change\n",
    "    \n",
    "    df_not_group=df_not_group.sort_values(by='start_event')\n",
    "    df_upcoming = df_not_group.groupby(\n",
    "        (df_not_group[\"end_event\"].diff() != pd.Timedelta(\"20 minutes\")).cumsum(), as_index=False\n",
    "        ).agg({\"start_event\": \"first\", \"end_event\": \"last\"})\n",
    "    \n",
    "    \n",
    "\n",
    "    #change time fromat\n",
    "    df_upcoming[\"start_event\"] = df_upcoming[\"start_event\"].apply(lambda x: x.isoformat())\n",
    "    df_upcoming[\"end_event\"] = df_upcoming[\"end_event\"].apply(lambda x: x.isoformat())\n",
    "    \n",
    "    #final table\n",
    "    df_upcoming['event_name']='Speakday'\n",
    "    df_upcoming['description']=url\n",
    "    df_upcoming['location']=None\n",
    "    df_upcoming=df_upcoming[['event_name', 'description',  'start_event', 'end_event', 'location']]\n",
    "\n",
    "    \n",
    "    return df_upcoming\n",
    "\n"
   ]
  },
  {
   "cell_type": "code",
   "execution_count": 6,
   "id": "537075bb",
   "metadata": {},
   "outputs": [],
   "source": [
    "#be careful, we don't want to crash the site\n",
    "#bs_speakday=get_page(url)"
   ]
  },
  {
   "cell_type": "code",
   "execution_count": 12,
   "id": "332f3234",
   "metadata": {},
   "outputs": [],
   "source": [
    "#bs_speakday"
   ]
  },
  {
   "cell_type": "code",
   "execution_count": 16,
   "id": "7708f0d4",
   "metadata": {},
   "outputs": [],
   "source": [
    "#df_upcoming_speakday=filter_speakday(bs_speakday)"
   ]
  },
  {
   "cell_type": "code",
   "execution_count": 18,
   "id": "bd28cbbc",
   "metadata": {},
   "outputs": [],
   "source": [
    "#df_upcoming_speakday"
   ]
  },
  {
   "cell_type": "code",
   "execution_count": null,
   "id": "96e40d45",
   "metadata": {},
   "outputs": [],
   "source": []
  },
  {
   "cell_type": "code",
   "execution_count": null,
   "id": "d614ee99",
   "metadata": {},
   "outputs": [],
   "source": []
  }
 ],
 "metadata": {
  "kernelspec": {
   "display_name": "Python 3 (ipykernel)",
   "language": "python",
   "name": "python3"
  },
  "language_info": {
   "codemirror_mode": {
    "name": "ipython",
    "version": 3
   },
   "file_extension": ".py",
   "mimetype": "text/x-python",
   "name": "python",
   "nbconvert_exporter": "python",
   "pygments_lexer": "ipython3",
   "version": "3.10.9"
  }
 },
 "nbformat": 4,
 "nbformat_minor": 5
}
