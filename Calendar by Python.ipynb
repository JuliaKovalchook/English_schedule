{
 "cells": [
  {
   "cell_type": "code",
   "execution_count": 5,
   "id": "e147dd29",
   "metadata": {},
   "outputs": [],
   "source": [
    "calendar_id='d0630fd3418da5962f85e77d9a6c1045bfb1b23749d9b71f0ab004ff2ef4842f@group.calendar.google.com'"
   ]
  },
  {
   "cell_type": "code",
   "execution_count": 6,
   "id": "7c87d3d7",
   "metadata": {},
   "outputs": [],
   "source": [
    "\n",
    "import datetime\n",
    "import os.path\n",
    "\n",
    "from google.auth.transport.requests import Request\n",
    "from google.oauth2.credentials import Credentials\n",
    "from google_auth_oauthlib.flow import InstalledAppFlow\n",
    "from googleapiclient.discovery import build\n",
    "from googleapiclient.errors import HttpError\n",
    "\n",
    "# If modifying these scopes, delete the file token.json.\n",
    "SCOPES = ['https://www.googleapis.com/auth/calendar']\n"
   ]
  },
  {
   "cell_type": "code",
   "execution_count": 8,
   "id": "996f8f4b",
   "metadata": {},
   "outputs": [],
   "source": [
    "event_name='Langclub'\n",
    "description='https://langclub.live/'\n",
    "start_time='2023-09-22T09:00:00+03:00'\n",
    "start_time\n",
    "\n",
    "2023-09-21 16:00:00\n"
   ]
  },
  {
   "cell_type": "code",
   "execution_count": 38,
   "id": "75496152",
   "metadata": {},
   "outputs": [
    {
     "name": "stdout",
     "output_type": "stream",
     "text": [
      "Event created: https://www.google.com/calendar/event?eid=M2NsMm5vcnVpbzVoN21hYjNwbHRsc3FndHMgZDA2MzBmZDM0MThkYTU5NjJmODVlNzdkOWE2YzEwNDViZmIxYjIzNzQ5ZDliNzFmMGFiMDA0ZmYyZWY0ODQyZkBn\n"
     ]
    }
   ],
   "source": [
    "def main():\n",
    "    \"\"\"Shows basic usage of the Google Calendar API.\n",
    "    Prints the start and name of the next 10 events on the user's calendar.\n",
    "    \"\"\"\n",
    "    creds = None\n",
    "    if os.path.exists('token.json'):\n",
    "        creds = Credentials.from_authorized_user_file('token.json', SCOPES)\n",
    "    if not creds or not creds.valid:\n",
    "        if creds and creds.expired and creds.refresh_token:\n",
    "            creds.refresh(Request())\n",
    "        else:\n",
    "            flow = InstalledAppFlow.from_client_secrets_file(\n",
    "                'credential_calendat_python.json', SCOPES)\n",
    "            creds = flow.run_local_server(port=0)\n",
    "        # Save the credentials for the next run\n",
    "        with open('token.json', 'w') as token:\n",
    "            token.write(creds.to_json())\n",
    "    try:\n",
    "        service = build('calendar', 'v3', credentials=creds)\n",
    "\n",
    "        # https://developers.google.com/calendar/api/guides/create-events#python_1\n",
    "        # https://developers.google.com/calendar/quickstart/python\n",
    "\n",
    "        event = {\n",
    "          'summary': event_name,\n",
    "          #'location': '800 Howard St., San Francisco, CA 94103',\n",
    "          'description': description,\n",
    "          'colorID':'2'\n",
    "          'start': {\n",
    "            'dateTime': '2023-09-23T16:00:00+0300',\n",
    "            'timeZone': 'Europe/Kyiv',\n",
    "          },\n",
    "          'end': {\n",
    "            'dateTime': '2023-09-23T17:00:00+0300',\n",
    "            'timeZone': 'Europe/Kyiv',\n",
    "          },\n",
    "        \n",
    "        }\n",
    "\n",
    "        event = service.events().insert(calendarId=calendar_id, body=event).execute()\n",
    "        print ('Event created: %s' % (event.get('htmlLink')))\n",
    "\n",
    "    except HttpError as error:\n",
    "        print('An error occurred: %s' % error)\n",
    "\n",
    "\n",
    "if __name__ == '__main__':\n",
    "    main()\n"
   ]
  },
  {
   "cell_type": "code",
   "execution_count": 6,
   "id": "7c208ec7",
   "metadata": {},
   "outputs": [
    {
     "ename": "NameError",
     "evalue": "name 'service' is not defined",
     "output_type": "error",
     "traceback": [
      "\u001b[0;31m---------------------------------------------------------------------------\u001b[0m",
      "\u001b[0;31mNameError\u001b[0m                                 Traceback (most recent call last)",
      "Cell \u001b[0;32mIn[6], line 36\u001b[0m\n\u001b[1;32m      1\u001b[0m \u001b[38;5;66;03m#https://developers.google.com/calendar/api/guides/create-events#python_1\u001b[39;00m\n\u001b[1;32m      2\u001b[0m \n\u001b[1;32m      3\u001b[0m \u001b[38;5;66;03m# Refer to the Python quickstart on how to setup the environment:\u001b[39;00m\n\u001b[1;32m      4\u001b[0m \u001b[38;5;66;03m# https://developers.google.com/calendar/quickstart/python\u001b[39;00m\n\u001b[1;32m      5\u001b[0m \u001b[38;5;66;03m# Change the scope to 'https://www.googleapis.com/auth/calendar' and delete any\u001b[39;00m\n\u001b[1;32m      6\u001b[0m \u001b[38;5;66;03m# stored credentials.\u001b[39;00m\n\u001b[1;32m      8\u001b[0m event \u001b[38;5;241m=\u001b[39m {\n\u001b[1;32m      9\u001b[0m   \u001b[38;5;124m'\u001b[39m\u001b[38;5;124msummary\u001b[39m\u001b[38;5;124m'\u001b[39m: \u001b[38;5;124m'\u001b[39m\u001b[38;5;124mGoogle I/O 2015\u001b[39m\u001b[38;5;124m'\u001b[39m,\n\u001b[1;32m     10\u001b[0m   \u001b[38;5;124m'\u001b[39m\u001b[38;5;124mlocation\u001b[39m\u001b[38;5;124m'\u001b[39m: \u001b[38;5;124m'\u001b[39m\u001b[38;5;124m800 Howard St., San Francisco, CA 94103\u001b[39m\u001b[38;5;124m'\u001b[39m,\n\u001b[0;32m   (...)\u001b[0m\n\u001b[1;32m     33\u001b[0m   \u001b[38;5;66;03m#},\u001b[39;00m\n\u001b[1;32m     34\u001b[0m }\n\u001b[0;32m---> 36\u001b[0m event \u001b[38;5;241m=\u001b[39m \u001b[43mservice\u001b[49m\u001b[38;5;241m.\u001b[39mevents()\u001b[38;5;241m.\u001b[39minsert(calendarId\u001b[38;5;241m=\u001b[39mcalendar_id, body\u001b[38;5;241m=\u001b[39mevent)\u001b[38;5;241m.\u001b[39mexecute()\n\u001b[1;32m     37\u001b[0m \u001b[38;5;28mprint\u001b[39m (\u001b[38;5;124m'\u001b[39m\u001b[38;5;124mEvent created: \u001b[39m\u001b[38;5;132;01m%s\u001b[39;00m\u001b[38;5;124m'\u001b[39m \u001b[38;5;241m%\u001b[39m (event\u001b[38;5;241m.\u001b[39mget(\u001b[38;5;124m'\u001b[39m\u001b[38;5;124mhtmlLink\u001b[39m\u001b[38;5;124m'\u001b[39m)))\n",
      "\u001b[0;31mNameError\u001b[0m: name 'service' is not defined"
     ]
    }
   ],
   "source": []
  },
  {
   "cell_type": "code",
   "execution_count": 35,
   "id": "68fc2130",
   "metadata": {},
   "outputs": [],
   "source": [
    "timestamp=1695301200000\n",
    "end_date=timestamp+3600000\n",
    "expect='2023-09-21T16:00:00+03:00'\n"
   ]
  },
  {
   "cell_type": "code",
   "execution_count": 36,
   "id": "c23332fb",
   "metadata": {},
   "outputs": [],
   "source": [
    "def change_date(timestamp_date):\n",
    "    date_time=datetime.fromtimestamp(timestamp_date/1000, pytz.timezone(\"Europe/Kyiv\"))\n",
    "    str_date_time = date_time.strftime(\"%Y-%m-%dT%H:%M:%S%z\")\n",
    "    return str_date_time\n",
    "\n",
    "    "
   ]
  },
  {
   "cell_type": "code",
   "execution_count": 37,
   "id": "67fb40ae",
   "metadata": {},
   "outputs": [
    {
     "name": "stdout",
     "output_type": "stream",
     "text": [
      "start 2023-09-21T16:00:00+0300\n",
      "end 2023-09-21T17:00:00+0300\n"
     ]
    }
   ],
   "source": [
    "from datetime import datetime\n",
    "import pytz\n",
    "\n",
    "print(\"start\", change_date(timestamp))\n",
    "print(\"end\", change_date(end_date))\n"
   ]
  },
  {
   "cell_type": "raw",
   "id": "edb22413",
   "metadata": {},
   "source": []
  },
  {
   "cell_type": "code",
   "execution_count": 26,
   "id": "23bfa177",
   "metadata": {},
   "outputs": [
    {
     "name": "stdout",
     "output_type": "stream",
     "text": [
      "Current timestamp 2023-09-21T16:00:00+0300\n"
     ]
    }
   ],
   "source": [
    "print(\"Current timestamp\", str_date_time)\n"
   ]
  },
  {
   "cell_type": "code",
   "execution_count": null,
   "id": "f9c0f4dd",
   "metadata": {},
   "outputs": [],
   "source": [
    "1695301200000=16"
   ]
  }
 ],
 "metadata": {
  "kernelspec": {
   "display_name": "Python 3 (ipykernel)",
   "language": "python",
   "name": "python3"
  },
  "language_info": {
   "codemirror_mode": {
    "name": "ipython",
    "version": 3
   },
   "file_extension": ".py",
   "mimetype": "text/x-python",
   "name": "python",
   "nbconvert_exporter": "python",
   "pygments_lexer": "ipython3",
   "version": "3.10.9"
  }
 },
 "nbformat": 4,
 "nbformat_minor": 5
}
